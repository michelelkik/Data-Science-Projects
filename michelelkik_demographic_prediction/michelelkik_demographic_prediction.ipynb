{
 "cells": [
  {
   "cell_type": "markdown",
   "metadata": {},
   "source": [
    "# Question: \n",
    "# Age and Sex prediction from user keywoards (per session)"
   ]
  },
  {
   "cell_type": "raw",
   "metadata": {},
   "source": [
    "\n",
    " # 1. Dataset Exploration\n",
    "\n",
    " # 2. Data Preprocessing: Dropping Missing Values\n",
    "## 2.1 Dropping \"age\" and \"sex\" informtion to predict them based on the keywords\n",
    "## 2.2 Number of rows after dropping NaN values\n",
    "\n",
    " # 3. Feature Extraction: BoW Approach for the Training Set\n",
    "## 3.1 Removing the following columns: ID, Age, Sex\n",
    "## 3.2 Function for \"keywords\" transformation\n",
    "## 3.3 Applying the respective functions to obtain the \"class\" attribute\n",
    "## 3.4 Bag of Words Scoring using TF-IDF\n",
    "\n",
    " # 4. Partitioning: Split dataset into Train and Test Sets\n",
    "\n",
    " # 5. Classification: Fitting Multinomial Naive Bayes to the Training Set\n",
    "\n",
    " # 6. NB Model Evaluation: Cross Validation using k-fold\n",
    "## 6.1 Cross Validation Accuracy\n",
    "\n",
    " # 7. Test Set Prediction\n",
    "## 7.1 Feature Extraction: BoW Approach for Test Set \n",
    "## 7.2 Attribute Prediction: 'prediction' = P('class')\n",
    "## 7.3 Equating \"sex\" to \"prediction\" \n",
    "## 7.4 Predicted Dataset: Final Format\n",
    "\n",
    " # 8. Exporting Predicted Dataset as CSV\n"
   ]
  },
  {
   "cell_type": "markdown",
   "metadata": {},
   "source": [
    "###    "
   ]
  },
  {
   "cell_type": "code",
   "execution_count": 1,
   "metadata": {},
   "outputs": [],
   "source": [
    "import pandas as pd\n",
    "import numpy as np\n",
    "import re\n",
    "from sklearn.feature_extraction.text import TfidfVectorizer\n",
    "from sklearn.naive_bayes import BernoulliNB, MultinomialNB\n",
    "from sklearn import metrics\n",
    "from sklearn.model_selection import train_test_split\n",
    "from sklearn.model_selection import cross_val_predict"
   ]
  },
  {
   "cell_type": "code",
   "execution_count": 2,
   "metadata": {},
   "outputs": [],
   "source": [
    "PATH1='C:/Users/Michel El Kik/Documents/MICHEL EL KIK DOCS/ESCP DOCS/ESCP Semester 2/ML/Final Project ML/train.csv'\n",
    "PATH2='C:/Users/Michel El Kik/Documents/MICHEL EL KIK DOCS/ESCP DOCS/ESCP Semester 2/ML/Final Project ML/test.csv'"
   ]
  },
  {
   "cell_type": "code",
   "execution_count": 3,
   "metadata": {
    "scrolled": false
   },
   "outputs": [],
   "source": [
    "train = pd.read_csv(PATH1)"
   ]
  },
  {
   "cell_type": "code",
   "execution_count": 4,
   "metadata": {},
   "outputs": [],
   "source": [
    "test = pd.read_csv(PATH2)"
   ]
  },
  {
   "cell_type": "markdown",
   "metadata": {},
   "source": [
    "### Testing with 1,000,000 instances (processing power limit for 1.5 Million instances)"
   ]
  },
  {
   "cell_type": "code",
   "execution_count": 5,
   "metadata": {},
   "outputs": [],
   "source": [
    "train_df = train.head(1600000)\n",
    "test_df =  test.head(1600000)"
   ]
  },
  {
   "cell_type": "markdown",
   "metadata": {},
   "source": [
    "###    "
   ]
  },
  {
   "cell_type": "markdown",
   "metadata": {},
   "source": [
    "# 1. Dataset Exploration"
   ]
  },
  {
   "cell_type": "code",
   "execution_count": 6,
   "metadata": {},
   "outputs": [
    {
     "data": {
      "text/html": [
       "<div>\n",
       "<style scoped>\n",
       "    .dataframe tbody tr th:only-of-type {\n",
       "        vertical-align: middle;\n",
       "    }\n",
       "\n",
       "    .dataframe tbody tr th {\n",
       "        vertical-align: top;\n",
       "    }\n",
       "\n",
       "    .dataframe thead th {\n",
       "        text-align: right;\n",
       "    }\n",
       "</style>\n",
       "<table border=\"1\" class=\"dataframe\">\n",
       "  <thead>\n",
       "    <tr style=\"text-align: right;\">\n",
       "      <th></th>\n",
       "      <th>ID</th>\n",
       "      <th>keywords</th>\n",
       "      <th>age</th>\n",
       "      <th>sex</th>\n",
       "    </tr>\n",
       "  </thead>\n",
       "  <tbody>\n",
       "    <tr>\n",
       "      <td>0</td>\n",
       "      <td>1</td>\n",
       "      <td>fibre:16;quoi:1;dangers:1;combien:1;hightech:1...</td>\n",
       "      <td>62</td>\n",
       "      <td>F</td>\n",
       "    </tr>\n",
       "    <tr>\n",
       "      <td>1</td>\n",
       "      <td>2</td>\n",
       "      <td>restaurant:1;marrakech.shtml:1</td>\n",
       "      <td>35</td>\n",
       "      <td>M</td>\n",
       "    </tr>\n",
       "    <tr>\n",
       "      <td>2</td>\n",
       "      <td>3</td>\n",
       "      <td>payer:1;faq:1;taxe:1;habitation:1;macron:1;qui...</td>\n",
       "      <td>45</td>\n",
       "      <td>F</td>\n",
       "    </tr>\n",
       "    <tr>\n",
       "      <td>3</td>\n",
       "      <td>4</td>\n",
       "      <td>rigaud:3;laurent:3;photo:11;profile:8;photopro...</td>\n",
       "      <td>46</td>\n",
       "      <td>F</td>\n",
       "    </tr>\n",
       "    <tr>\n",
       "      <td>4</td>\n",
       "      <td>5</td>\n",
       "      <td>societe:1;disparition:1;proche:1;m%c3%a9lanie....</td>\n",
       "      <td>42</td>\n",
       "      <td>F</td>\n",
       "    </tr>\n",
       "    <tr>\n",
       "      <td>...</td>\n",
       "      <td>...</td>\n",
       "      <td>...</td>\n",
       "      <td>...</td>\n",
       "      <td>...</td>\n",
       "    </tr>\n",
       "    <tr>\n",
       "      <td>1599995</td>\n",
       "      <td>2284949</td>\n",
       "      <td>gaz:5;ramonage:5;chaudiere:5;affich:5;arnaque:...</td>\n",
       "      <td>65</td>\n",
       "      <td>M</td>\n",
       "    </tr>\n",
       "    <tr>\n",
       "      <td>1599996</td>\n",
       "      <td>2284950</td>\n",
       "      <td>calculatrice:1;affich:1;ticonnect:1;forum:1;co...</td>\n",
       "      <td>37</td>\n",
       "      <td>M</td>\n",
       "    </tr>\n",
       "    <tr>\n",
       "      <td>1599997</td>\n",
       "      <td>1222162</td>\n",
       "      <td>latecoere:1;profile:1;groupe:1;latelec:1;patri...</td>\n",
       "      <td>36</td>\n",
       "      <td>F</td>\n",
       "    </tr>\n",
       "    <tr>\n",
       "      <td>1599998</td>\n",
       "      <td>2284952</td>\n",
       "      <td>bousser:3;thil:5;inbox:8;etienne:3;copains:3;j...</td>\n",
       "      <td>47</td>\n",
       "      <td>M</td>\n",
       "    </tr>\n",
       "    <tr>\n",
       "      <td>1599999</td>\n",
       "      <td>117709</td>\n",
       "      <td>fiscalite:1;celebre:1;96a5:1;989e:1;diesel:1;d...</td>\n",
       "      <td>38</td>\n",
       "      <td>M</td>\n",
       "    </tr>\n",
       "  </tbody>\n",
       "</table>\n",
       "<p>1600000 rows × 4 columns</p>\n",
       "</div>"
      ],
      "text/plain": [
       "              ID                                           keywords  age sex\n",
       "0              1  fibre:16;quoi:1;dangers:1;combien:1;hightech:1...   62   F\n",
       "1              2                     restaurant:1;marrakech.shtml:1   35   M\n",
       "2              3  payer:1;faq:1;taxe:1;habitation:1;macron:1;qui...   45   F\n",
       "3              4  rigaud:3;laurent:3;photo:11;profile:8;photopro...   46   F\n",
       "4              5  societe:1;disparition:1;proche:1;m%c3%a9lanie....   42   F\n",
       "...          ...                                                ...  ...  ..\n",
       "1599995  2284949  gaz:5;ramonage:5;chaudiere:5;affich:5;arnaque:...   65   M\n",
       "1599996  2284950  calculatrice:1;affich:1;ticonnect:1;forum:1;co...   37   M\n",
       "1599997  1222162  latecoere:1;profile:1;groupe:1;latelec:1;patri...   36   F\n",
       "1599998  2284952  bousser:3;thil:5;inbox:8;etienne:3;copains:3;j...   47   M\n",
       "1599999   117709  fiscalite:1;celebre:1;96a5:1;989e:1;diesel:1;d...   38   M\n",
       "\n",
       "[1600000 rows x 4 columns]"
      ]
     },
     "metadata": {},
     "output_type": "display_data"
    },
    {
     "data": {
      "text/html": [
       "<div>\n",
       "<style scoped>\n",
       "    .dataframe tbody tr th:only-of-type {\n",
       "        vertical-align: middle;\n",
       "    }\n",
       "\n",
       "    .dataframe tbody tr th {\n",
       "        vertical-align: top;\n",
       "    }\n",
       "\n",
       "    .dataframe thead th {\n",
       "        text-align: right;\n",
       "    }\n",
       "</style>\n",
       "<table border=\"1\" class=\"dataframe\">\n",
       "  <thead>\n",
       "    <tr style=\"text-align: right;\">\n",
       "      <th></th>\n",
       "      <th>ID</th>\n",
       "      <th>keywords</th>\n",
       "      <th>age</th>\n",
       "      <th>sex</th>\n",
       "    </tr>\n",
       "  </thead>\n",
       "  <tbody>\n",
       "    <tr>\n",
       "      <td>0</td>\n",
       "      <td>1</td>\n",
       "      <td>NaN</td>\n",
       "      <td>NaN</td>\n",
       "      <td>NaN</td>\n",
       "    </tr>\n",
       "    <tr>\n",
       "      <td>1</td>\n",
       "      <td>2</td>\n",
       "      <td>cecilia.gosselin:1;flash:1;ville:1;obseques:1;...</td>\n",
       "      <td>NaN</td>\n",
       "      <td>NaN</td>\n",
       "    </tr>\n",
       "    <tr>\n",
       "      <td>2</td>\n",
       "      <td>3</td>\n",
       "      <td>p1_1697235:1;peut:1;jcms:1;les:1;acceptees:1;p...</td>\n",
       "      <td>NaN</td>\n",
       "      <td>NaN</td>\n",
       "    </tr>\n",
       "    <tr>\n",
       "      <td>3</td>\n",
       "      <td>4</td>\n",
       "      <td>002lundu83vnndv:1</td>\n",
       "      <td>NaN</td>\n",
       "      <td>NaN</td>\n",
       "    </tr>\n",
       "    <tr>\n",
       "      <td>4</td>\n",
       "      <td>5</td>\n",
       "      <td>high:3;patisserie:1;apple:3;tech:3;obseques:1;...</td>\n",
       "      <td>NaN</td>\n",
       "      <td>NaN</td>\n",
       "    </tr>\n",
       "    <tr>\n",
       "      <td>...</td>\n",
       "      <td>...</td>\n",
       "      <td>...</td>\n",
       "      <td>...</td>\n",
       "      <td>...</td>\n",
       "    </tr>\n",
       "    <tr>\n",
       "      <td>1599995</td>\n",
       "      <td>1599996</td>\n",
       "      <td>quatre:1;quart:1;recette:1</td>\n",
       "      <td>NaN</td>\n",
       "      <td>NaN</td>\n",
       "    </tr>\n",
       "    <tr>\n",
       "      <td>1599996</td>\n",
       "      <td>1599997</td>\n",
       "      <td>jcms:1;seuils:1;dexoneration:1;futurs:1;p1_169...</td>\n",
       "      <td>NaN</td>\n",
       "      <td>NaN</td>\n",
       "    </tr>\n",
       "    <tr>\n",
       "      <td>1599997</td>\n",
       "      <td>1599998</td>\n",
       "      <td>france:6;meteo:6;previsions:6;seillans:6;ville:6</td>\n",
       "      <td>NaN</td>\n",
       "      <td>NaN</td>\n",
       "    </tr>\n",
       "    <tr>\n",
       "      <td>1599998</td>\n",
       "      <td>1599999</td>\n",
       "      <td>jhabite:1;emplacement:1;beneficient:1;p1_13227...</td>\n",
       "      <td>NaN</td>\n",
       "      <td>NaN</td>\n",
       "    </tr>\n",
       "    <tr>\n",
       "      <td>1599999</td>\n",
       "      <td>1600000</td>\n",
       "      <td>essentiel:1;testez:1;plans:1;beaute:1;bons:1;p...</td>\n",
       "      <td>NaN</td>\n",
       "      <td>NaN</td>\n",
       "    </tr>\n",
       "  </tbody>\n",
       "</table>\n",
       "<p>1600000 rows × 4 columns</p>\n",
       "</div>"
      ],
      "text/plain": [
       "              ID                                           keywords  age  sex\n",
       "0              1                                                NaN  NaN  NaN\n",
       "1              2  cecilia.gosselin:1;flash:1;ville:1;obseques:1;...  NaN  NaN\n",
       "2              3  p1_1697235:1;peut:1;jcms:1;les:1;acceptees:1;p...  NaN  NaN\n",
       "3              4                                  002lundu83vnndv:1  NaN  NaN\n",
       "4              5  high:3;patisserie:1;apple:3;tech:3;obseques:1;...  NaN  NaN\n",
       "...          ...                                                ...  ...  ...\n",
       "1599995  1599996                         quatre:1;quart:1;recette:1  NaN  NaN\n",
       "1599996  1599997  jcms:1;seuils:1;dexoneration:1;futurs:1;p1_169...  NaN  NaN\n",
       "1599997  1599998   france:6;meteo:6;previsions:6;seillans:6;ville:6  NaN  NaN\n",
       "1599998  1599999  jhabite:1;emplacement:1;beneficient:1;p1_13227...  NaN  NaN\n",
       "1599999  1600000  essentiel:1;testez:1;plans:1;beaute:1;bons:1;p...  NaN  NaN\n",
       "\n",
       "[1600000 rows x 4 columns]"
      ]
     },
     "metadata": {},
     "output_type": "display_data"
    }
   ],
   "source": [
    "display(train_df.head(1600000), test_df.head(1600000))"
   ]
  },
  {
   "cell_type": "code",
   "execution_count": 7,
   "metadata": {},
   "outputs": [
    {
     "data": {
      "text/plain": [
       "(1600000, 1600000)"
      ]
     },
     "execution_count": 7,
     "metadata": {},
     "output_type": "execute_result"
    }
   ],
   "source": [
    "(len(train_df), len(test_df))"
   ]
  },
  {
   "cell_type": "markdown",
   "metadata": {},
   "source": [
    "###    "
   ]
  },
  {
   "cell_type": "markdown",
   "metadata": {},
   "source": [
    "# 2. Data Preprocessing: Dropping Missing Values"
   ]
  },
  {
   "cell_type": "code",
   "execution_count": 8,
   "metadata": {},
   "outputs": [],
   "source": [
    "train_df = train_df.dropna(axis=0)"
   ]
  },
  {
   "cell_type": "code",
   "execution_count": 9,
   "metadata": {
    "scrolled": true
   },
   "outputs": [],
   "source": [
    "#train_df.head(1600000) "
   ]
  },
  {
   "cell_type": "markdown",
   "metadata": {},
   "source": [
    "## 2.1 Dropping \"age\" and \"sex\" informtion to predict them based on the keywords"
   ]
  },
  {
   "cell_type": "code",
   "execution_count": 10,
   "metadata": {},
   "outputs": [],
   "source": [
    "test_df = test_df.dropna(subset=['keywords'])"
   ]
  },
  {
   "cell_type": "code",
   "execution_count": 11,
   "metadata": {},
   "outputs": [
    {
     "data": {
      "text/html": [
       "<div>\n",
       "<style scoped>\n",
       "    .dataframe tbody tr th:only-of-type {\n",
       "        vertical-align: middle;\n",
       "    }\n",
       "\n",
       "    .dataframe tbody tr th {\n",
       "        vertical-align: top;\n",
       "    }\n",
       "\n",
       "    .dataframe thead th {\n",
       "        text-align: right;\n",
       "    }\n",
       "</style>\n",
       "<table border=\"1\" class=\"dataframe\">\n",
       "  <thead>\n",
       "    <tr style=\"text-align: right;\">\n",
       "      <th></th>\n",
       "      <th>ID</th>\n",
       "      <th>keywords</th>\n",
       "      <th>age</th>\n",
       "      <th>sex</th>\n",
       "    </tr>\n",
       "  </thead>\n",
       "  <tbody>\n",
       "    <tr>\n",
       "      <td>1</td>\n",
       "      <td>2</td>\n",
       "      <td>cecilia.gosselin:1;flash:1;ville:1;obseques:1;...</td>\n",
       "      <td>NaN</td>\n",
       "      <td>NaN</td>\n",
       "    </tr>\n",
       "    <tr>\n",
       "      <td>2</td>\n",
       "      <td>3</td>\n",
       "      <td>p1_1697235:1;peut:1;jcms:1;les:1;acceptees:1;p...</td>\n",
       "      <td>NaN</td>\n",
       "      <td>NaN</td>\n",
       "    </tr>\n",
       "    <tr>\n",
       "      <td>3</td>\n",
       "      <td>4</td>\n",
       "      <td>002lundu83vnndv:1</td>\n",
       "      <td>NaN</td>\n",
       "      <td>NaN</td>\n",
       "    </tr>\n",
       "    <tr>\n",
       "      <td>4</td>\n",
       "      <td>5</td>\n",
       "      <td>high:3;patisserie:1;apple:3;tech:3;obseques:1;...</td>\n",
       "      <td>NaN</td>\n",
       "      <td>NaN</td>\n",
       "    </tr>\n",
       "    <tr>\n",
       "      <td>5</td>\n",
       "      <td>6</td>\n",
       "      <td>disparition:1;vue:1;maelys:1;deuxieme:1;place:...</td>\n",
       "      <td>NaN</td>\n",
       "      <td>NaN</td>\n",
       "    </tr>\n",
       "    <tr>\n",
       "      <td>...</td>\n",
       "      <td>...</td>\n",
       "      <td>...</td>\n",
       "      <td>...</td>\n",
       "      <td>...</td>\n",
       "    </tr>\n",
       "    <tr>\n",
       "      <td>1599995</td>\n",
       "      <td>1599996</td>\n",
       "      <td>quatre:1;quart:1;recette:1</td>\n",
       "      <td>NaN</td>\n",
       "      <td>NaN</td>\n",
       "    </tr>\n",
       "    <tr>\n",
       "      <td>1599996</td>\n",
       "      <td>1599997</td>\n",
       "      <td>jcms:1;seuils:1;dexoneration:1;futurs:1;p1_169...</td>\n",
       "      <td>NaN</td>\n",
       "      <td>NaN</td>\n",
       "    </tr>\n",
       "    <tr>\n",
       "      <td>1599997</td>\n",
       "      <td>1599998</td>\n",
       "      <td>france:6;meteo:6;previsions:6;seillans:6;ville:6</td>\n",
       "      <td>NaN</td>\n",
       "      <td>NaN</td>\n",
       "    </tr>\n",
       "    <tr>\n",
       "      <td>1599998</td>\n",
       "      <td>1599999</td>\n",
       "      <td>jhabite:1;emplacement:1;beneficient:1;p1_13227...</td>\n",
       "      <td>NaN</td>\n",
       "      <td>NaN</td>\n",
       "    </tr>\n",
       "    <tr>\n",
       "      <td>1599999</td>\n",
       "      <td>1600000</td>\n",
       "      <td>essentiel:1;testez:1;plans:1;beaute:1;bons:1;p...</td>\n",
       "      <td>NaN</td>\n",
       "      <td>NaN</td>\n",
       "    </tr>\n",
       "  </tbody>\n",
       "</table>\n",
       "<p>1419642 rows × 4 columns</p>\n",
       "</div>"
      ],
      "text/plain": [
       "              ID                                           keywords  age  sex\n",
       "1              2  cecilia.gosselin:1;flash:1;ville:1;obseques:1;...  NaN  NaN\n",
       "2              3  p1_1697235:1;peut:1;jcms:1;les:1;acceptees:1;p...  NaN  NaN\n",
       "3              4                                  002lundu83vnndv:1  NaN  NaN\n",
       "4              5  high:3;patisserie:1;apple:3;tech:3;obseques:1;...  NaN  NaN\n",
       "5              6  disparition:1;vue:1;maelys:1;deuxieme:1;place:...  NaN  NaN\n",
       "...          ...                                                ...  ...  ...\n",
       "1599995  1599996                         quatre:1;quart:1;recette:1  NaN  NaN\n",
       "1599996  1599997  jcms:1;seuils:1;dexoneration:1;futurs:1;p1_169...  NaN  NaN\n",
       "1599997  1599998   france:6;meteo:6;previsions:6;seillans:6;ville:6  NaN  NaN\n",
       "1599998  1599999  jhabite:1;emplacement:1;beneficient:1;p1_13227...  NaN  NaN\n",
       "1599999  1600000  essentiel:1;testez:1;plans:1;beaute:1;bons:1;p...  NaN  NaN\n",
       "\n",
       "[1419642 rows x 4 columns]"
      ]
     },
     "execution_count": 11,
     "metadata": {},
     "output_type": "execute_result"
    }
   ],
   "source": [
    "test_df.head(1600000) "
   ]
  },
  {
   "cell_type": "markdown",
   "metadata": {},
   "source": [
    "## 2.2 Number of rows after dropping NaN values"
   ]
  },
  {
   "cell_type": "code",
   "execution_count": 12,
   "metadata": {},
   "outputs": [
    {
     "data": {
      "text/plain": [
       "(1424015, 1419642)"
      ]
     },
     "execution_count": 12,
     "metadata": {},
     "output_type": "execute_result"
    }
   ],
   "source": [
    "(len(train_df), len(test_df))"
   ]
  },
  {
   "cell_type": "markdown",
   "metadata": {},
   "source": [
    "###    "
   ]
  },
  {
   "cell_type": "markdown",
   "metadata": {},
   "source": [
    "# 3. Feature Extraction: BoW Approach for the Training Set"
   ]
  },
  {
   "cell_type": "code",
   "execution_count": 13,
   "metadata": {},
   "outputs": [],
   "source": [
    "train_df['class'] = train_df[\"age\"].map(str) + train_df[\"sex\"] #sticks age and sex in one cell"
   ]
  },
  {
   "cell_type": "code",
   "execution_count": 14,
   "metadata": {},
   "outputs": [
    {
     "data": {
      "text/html": [
       "<div>\n",
       "<style scoped>\n",
       "    .dataframe tbody tr th:only-of-type {\n",
       "        vertical-align: middle;\n",
       "    }\n",
       "\n",
       "    .dataframe tbody tr th {\n",
       "        vertical-align: top;\n",
       "    }\n",
       "\n",
       "    .dataframe thead th {\n",
       "        text-align: right;\n",
       "    }\n",
       "</style>\n",
       "<table border=\"1\" class=\"dataframe\">\n",
       "  <thead>\n",
       "    <tr style=\"text-align: right;\">\n",
       "      <th></th>\n",
       "      <th>ID</th>\n",
       "      <th>keywords</th>\n",
       "      <th>age</th>\n",
       "      <th>sex</th>\n",
       "      <th>class</th>\n",
       "    </tr>\n",
       "  </thead>\n",
       "  <tbody>\n",
       "    <tr>\n",
       "      <td>0</td>\n",
       "      <td>1</td>\n",
       "      <td>fibre:16;quoi:1;dangers:1;combien:1;hightech:1...</td>\n",
       "      <td>62</td>\n",
       "      <td>F</td>\n",
       "      <td>62F</td>\n",
       "    </tr>\n",
       "    <tr>\n",
       "      <td>1</td>\n",
       "      <td>2</td>\n",
       "      <td>restaurant:1;marrakech.shtml:1</td>\n",
       "      <td>35</td>\n",
       "      <td>M</td>\n",
       "      <td>35M</td>\n",
       "    </tr>\n",
       "    <tr>\n",
       "      <td>2</td>\n",
       "      <td>3</td>\n",
       "      <td>payer:1;faq:1;taxe:1;habitation:1;macron:1;qui...</td>\n",
       "      <td>45</td>\n",
       "      <td>F</td>\n",
       "      <td>45F</td>\n",
       "    </tr>\n",
       "    <tr>\n",
       "      <td>3</td>\n",
       "      <td>4</td>\n",
       "      <td>rigaud:3;laurent:3;photo:11;profile:8;photopro...</td>\n",
       "      <td>46</td>\n",
       "      <td>F</td>\n",
       "      <td>46F</td>\n",
       "    </tr>\n",
       "    <tr>\n",
       "      <td>4</td>\n",
       "      <td>5</td>\n",
       "      <td>societe:1;disparition:1;proche:1;m%c3%a9lanie....</td>\n",
       "      <td>42</td>\n",
       "      <td>F</td>\n",
       "      <td>42F</td>\n",
       "    </tr>\n",
       "    <tr>\n",
       "      <td>...</td>\n",
       "      <td>...</td>\n",
       "      <td>...</td>\n",
       "      <td>...</td>\n",
       "      <td>...</td>\n",
       "      <td>...</td>\n",
       "    </tr>\n",
       "    <tr>\n",
       "      <td>1599995</td>\n",
       "      <td>2284949</td>\n",
       "      <td>gaz:5;ramonage:5;chaudiere:5;affich:5;arnaque:...</td>\n",
       "      <td>65</td>\n",
       "      <td>M</td>\n",
       "      <td>65M</td>\n",
       "    </tr>\n",
       "    <tr>\n",
       "      <td>1599996</td>\n",
       "      <td>2284950</td>\n",
       "      <td>calculatrice:1;affich:1;ticonnect:1;forum:1;co...</td>\n",
       "      <td>37</td>\n",
       "      <td>M</td>\n",
       "      <td>37M</td>\n",
       "    </tr>\n",
       "    <tr>\n",
       "      <td>1599997</td>\n",
       "      <td>1222162</td>\n",
       "      <td>latecoere:1;profile:1;groupe:1;latelec:1;patri...</td>\n",
       "      <td>36</td>\n",
       "      <td>F</td>\n",
       "      <td>36F</td>\n",
       "    </tr>\n",
       "    <tr>\n",
       "      <td>1599998</td>\n",
       "      <td>2284952</td>\n",
       "      <td>bousser:3;thil:5;inbox:8;etienne:3;copains:3;j...</td>\n",
       "      <td>47</td>\n",
       "      <td>M</td>\n",
       "      <td>47M</td>\n",
       "    </tr>\n",
       "    <tr>\n",
       "      <td>1599999</td>\n",
       "      <td>117709</td>\n",
       "      <td>fiscalite:1;celebre:1;96a5:1;989e:1;diesel:1;d...</td>\n",
       "      <td>38</td>\n",
       "      <td>M</td>\n",
       "      <td>38M</td>\n",
       "    </tr>\n",
       "  </tbody>\n",
       "</table>\n",
       "<p>1424015 rows × 5 columns</p>\n",
       "</div>"
      ],
      "text/plain": [
       "              ID                                           keywords  age sex  \\\n",
       "0              1  fibre:16;quoi:1;dangers:1;combien:1;hightech:1...   62   F   \n",
       "1              2                     restaurant:1;marrakech.shtml:1   35   M   \n",
       "2              3  payer:1;faq:1;taxe:1;habitation:1;macron:1;qui...   45   F   \n",
       "3              4  rigaud:3;laurent:3;photo:11;profile:8;photopro...   46   F   \n",
       "4              5  societe:1;disparition:1;proche:1;m%c3%a9lanie....   42   F   \n",
       "...          ...                                                ...  ...  ..   \n",
       "1599995  2284949  gaz:5;ramonage:5;chaudiere:5;affich:5;arnaque:...   65   M   \n",
       "1599996  2284950  calculatrice:1;affich:1;ticonnect:1;forum:1;co...   37   M   \n",
       "1599997  1222162  latecoere:1;profile:1;groupe:1;latelec:1;patri...   36   F   \n",
       "1599998  2284952  bousser:3;thil:5;inbox:8;etienne:3;copains:3;j...   47   M   \n",
       "1599999   117709  fiscalite:1;celebre:1;96a5:1;989e:1;diesel:1;d...   38   M   \n",
       "\n",
       "        class  \n",
       "0         62F  \n",
       "1         35M  \n",
       "2         45F  \n",
       "3         46F  \n",
       "4         42F  \n",
       "...       ...  \n",
       "1599995   65M  \n",
       "1599996   37M  \n",
       "1599997   36F  \n",
       "1599998   47M  \n",
       "1599999   38M  \n",
       "\n",
       "[1424015 rows x 5 columns]"
      ]
     },
     "execution_count": 14,
     "metadata": {},
     "output_type": "execute_result"
    }
   ],
   "source": [
    "train_df.head(1600000)"
   ]
  },
  {
   "cell_type": "markdown",
   "metadata": {},
   "source": [
    "##  3.1 Removing the following columns: ID, Age, Sex"
   ]
  },
  {
   "cell_type": "code",
   "execution_count": 15,
   "metadata": {},
   "outputs": [],
   "source": [
    "train_df = train_df.drop(train_df.columns[[0, 2, 3]], axis=1)"
   ]
  },
  {
   "cell_type": "code",
   "execution_count": 16,
   "metadata": {},
   "outputs": [
    {
     "data": {
      "text/html": [
       "<div>\n",
       "<style scoped>\n",
       "    .dataframe tbody tr th:only-of-type {\n",
       "        vertical-align: middle;\n",
       "    }\n",
       "\n",
       "    .dataframe tbody tr th {\n",
       "        vertical-align: top;\n",
       "    }\n",
       "\n",
       "    .dataframe thead th {\n",
       "        text-align: right;\n",
       "    }\n",
       "</style>\n",
       "<table border=\"1\" class=\"dataframe\">\n",
       "  <thead>\n",
       "    <tr style=\"text-align: right;\">\n",
       "      <th></th>\n",
       "      <th>keywords</th>\n",
       "      <th>class</th>\n",
       "    </tr>\n",
       "  </thead>\n",
       "  <tbody>\n",
       "    <tr>\n",
       "      <td>0</td>\n",
       "      <td>fibre:16;quoi:1;dangers:1;combien:1;hightech:1...</td>\n",
       "      <td>62F</td>\n",
       "    </tr>\n",
       "    <tr>\n",
       "      <td>1</td>\n",
       "      <td>restaurant:1;marrakech.shtml:1</td>\n",
       "      <td>35M</td>\n",
       "    </tr>\n",
       "    <tr>\n",
       "      <td>2</td>\n",
       "      <td>payer:1;faq:1;taxe:1;habitation:1;macron:1;qui...</td>\n",
       "      <td>45F</td>\n",
       "    </tr>\n",
       "    <tr>\n",
       "      <td>3</td>\n",
       "      <td>rigaud:3;laurent:3;photo:11;profile:8;photopro...</td>\n",
       "      <td>46F</td>\n",
       "    </tr>\n",
       "    <tr>\n",
       "      <td>4</td>\n",
       "      <td>societe:1;disparition:1;proche:1;m%c3%a9lanie....</td>\n",
       "      <td>42F</td>\n",
       "    </tr>\n",
       "    <tr>\n",
       "      <td>...</td>\n",
       "      <td>...</td>\n",
       "      <td>...</td>\n",
       "    </tr>\n",
       "    <tr>\n",
       "      <td>1599995</td>\n",
       "      <td>gaz:5;ramonage:5;chaudiere:5;affich:5;arnaque:...</td>\n",
       "      <td>65M</td>\n",
       "    </tr>\n",
       "    <tr>\n",
       "      <td>1599996</td>\n",
       "      <td>calculatrice:1;affich:1;ticonnect:1;forum:1;co...</td>\n",
       "      <td>37M</td>\n",
       "    </tr>\n",
       "    <tr>\n",
       "      <td>1599997</td>\n",
       "      <td>latecoere:1;profile:1;groupe:1;latelec:1;patri...</td>\n",
       "      <td>36F</td>\n",
       "    </tr>\n",
       "    <tr>\n",
       "      <td>1599998</td>\n",
       "      <td>bousser:3;thil:5;inbox:8;etienne:3;copains:3;j...</td>\n",
       "      <td>47M</td>\n",
       "    </tr>\n",
       "    <tr>\n",
       "      <td>1599999</td>\n",
       "      <td>fiscalite:1;celebre:1;96a5:1;989e:1;diesel:1;d...</td>\n",
       "      <td>38M</td>\n",
       "    </tr>\n",
       "  </tbody>\n",
       "</table>\n",
       "<p>1424015 rows × 2 columns</p>\n",
       "</div>"
      ],
      "text/plain": [
       "                                                  keywords class\n",
       "0        fibre:16;quoi:1;dangers:1;combien:1;hightech:1...   62F\n",
       "1                           restaurant:1;marrakech.shtml:1   35M\n",
       "2        payer:1;faq:1;taxe:1;habitation:1;macron:1;qui...   45F\n",
       "3        rigaud:3;laurent:3;photo:11;profile:8;photopro...   46F\n",
       "4        societe:1;disparition:1;proche:1;m%c3%a9lanie....   42F\n",
       "...                                                    ...   ...\n",
       "1599995  gaz:5;ramonage:5;chaudiere:5;affich:5;arnaque:...   65M\n",
       "1599996  calculatrice:1;affich:1;ticonnect:1;forum:1;co...   37M\n",
       "1599997  latecoere:1;profile:1;groupe:1;latelec:1;patri...   36F\n",
       "1599998  bousser:3;thil:5;inbox:8;etienne:3;copains:3;j...   47M\n",
       "1599999  fiscalite:1;celebre:1;96a5:1;989e:1;diesel:1;d...   38M\n",
       "\n",
       "[1424015 rows x 2 columns]"
      ]
     },
     "execution_count": 16,
     "metadata": {},
     "output_type": "execute_result"
    }
   ],
   "source": [
    "train_df.head(1600000)"
   ]
  },
  {
   "cell_type": "markdown",
   "metadata": {},
   "source": [
    "## 3.2 Function for \"keywords\" transformation"
   ]
  },
  {
   "cell_type": "code",
   "execution_count": 17,
   "metadata": {},
   "outputs": [],
   "source": [
    "def convert_to_words(keywords):\n",
    "    list_of_words = []\n",
    "    for x in keywords:\n",
    "        list_of_words.append(x.split(\":\",1)[0]) \n",
    "        # split(separator, maxsplit)\n",
    "        # maxsplit = 1  \n",
    "        # [0] indicates column 0 (keywords)\n",
    "        # splitting words from their respective frequencies\n",
    "    \n",
    "    return list_of_words"
   ]
  },
  {
   "cell_type": "code",
   "execution_count": 18,
   "metadata": {},
   "outputs": [],
   "source": [
    "def create_dict(keywords):\n",
    "    return dict(x.split(':') for x in keywords)"
   ]
  },
  {
   "cell_type": "markdown",
   "metadata": {},
   "source": [
    "## 3.3 Applying the respective functions  to obtain the \"class\" attribute"
   ]
  },
  {
   "cell_type": "code",
   "execution_count": 19,
   "metadata": {},
   "outputs": [],
   "source": [
    "x_df = train_df.copy()"
   ]
  },
  {
   "cell_type": "code",
   "execution_count": 20,
   "metadata": {},
   "outputs": [],
   "source": [
    "x_df['keywords'] = x_df['keywords'].apply(lambda row: row.split(\";\"))"
   ]
  },
  {
   "cell_type": "code",
   "execution_count": 21,
   "metadata": {},
   "outputs": [],
   "source": [
    "#x_df.head(1600000)"
   ]
  },
  {
   "cell_type": "code",
   "execution_count": 22,
   "metadata": {},
   "outputs": [],
   "source": [
    "x_df['keywords'] = x_df['keywords'].apply(lambda row: convert_to_words(row))"
   ]
  },
  {
   "cell_type": "code",
   "execution_count": 23,
   "metadata": {},
   "outputs": [],
   "source": [
    "#x_df.head(1600000)"
   ]
  },
  {
   "cell_type": "code",
   "execution_count": 24,
   "metadata": {},
   "outputs": [],
   "source": [
    "x_df['keywords'] = x_df['keywords'].apply(lambda row: ' '.join(row))"
   ]
  },
  {
   "cell_type": "code",
   "execution_count": 25,
   "metadata": {},
   "outputs": [
    {
     "data": {
      "text/html": [
       "<div>\n",
       "<style scoped>\n",
       "    .dataframe tbody tr th:only-of-type {\n",
       "        vertical-align: middle;\n",
       "    }\n",
       "\n",
       "    .dataframe tbody tr th {\n",
       "        vertical-align: top;\n",
       "    }\n",
       "\n",
       "    .dataframe thead th {\n",
       "        text-align: right;\n",
       "    }\n",
       "</style>\n",
       "<table border=\"1\" class=\"dataframe\">\n",
       "  <thead>\n",
       "    <tr style=\"text-align: right;\">\n",
       "      <th></th>\n",
       "      <th>keywords</th>\n",
       "      <th>class</th>\n",
       "    </tr>\n",
       "  </thead>\n",
       "  <tbody>\n",
       "    <tr>\n",
       "      <td>0</td>\n",
       "      <td>fibre quoi dangers combien hightech que est re...</td>\n",
       "      <td>62F</td>\n",
       "    </tr>\n",
       "    <tr>\n",
       "      <td>1</td>\n",
       "      <td>restaurant marrakech.shtml</td>\n",
       "      <td>35M</td>\n",
       "    </tr>\n",
       "    <tr>\n",
       "      <td>2</td>\n",
       "      <td>payer faq taxe habitation macron qui detail pr...</td>\n",
       "      <td>45F</td>\n",
       "    </tr>\n",
       "    <tr>\n",
       "      <td>3</td>\n",
       "      <td>rigaud laurent photo profile photoprofile bon ...</td>\n",
       "      <td>46F</td>\n",
       "    </tr>\n",
       "    <tr>\n",
       "      <td>4</td>\n",
       "      <td>societe disparition proche m%c3%a9lanie.gonide...</td>\n",
       "      <td>42F</td>\n",
       "    </tr>\n",
       "    <tr>\n",
       "      <td>...</td>\n",
       "      <td>...</td>\n",
       "      <td>...</td>\n",
       "    </tr>\n",
       "    <tr>\n",
       "      <td>1599995</td>\n",
       "      <td>gaz ramonage chaudiere affich arnaque forum</td>\n",
       "      <td>65M</td>\n",
       "    </tr>\n",
       "    <tr>\n",
       "      <td>1599996</td>\n",
       "      <td>calculatrice affich ticonnect forum connexion</td>\n",
       "      <td>37M</td>\n",
       "    </tr>\n",
       "    <tr>\n",
       "      <td>1599997</td>\n",
       "      <td>latecoere profile groupe latelec patrice.prevost</td>\n",
       "      <td>36F</td>\n",
       "    </tr>\n",
       "    <tr>\n",
       "      <td>1599998</td>\n",
       "      <td>bousser thil inbox etienne copains jeannot new...</td>\n",
       "      <td>47M</td>\n",
       "    </tr>\n",
       "    <tr>\n",
       "      <td>1599999</td>\n",
       "      <td>fiscalite celebre 96a5 989e diesel des program...</td>\n",
       "      <td>38M</td>\n",
       "    </tr>\n",
       "  </tbody>\n",
       "</table>\n",
       "<p>1424015 rows × 2 columns</p>\n",
       "</div>"
      ],
      "text/plain": [
       "                                                  keywords class\n",
       "0        fibre quoi dangers combien hightech que est re...   62F\n",
       "1                               restaurant marrakech.shtml   35M\n",
       "2        payer faq taxe habitation macron qui detail pr...   45F\n",
       "3        rigaud laurent photo profile photoprofile bon ...   46F\n",
       "4        societe disparition proche m%c3%a9lanie.gonide...   42F\n",
       "...                                                    ...   ...\n",
       "1599995        gaz ramonage chaudiere affich arnaque forum   65M\n",
       "1599996      calculatrice affich ticonnect forum connexion   37M\n",
       "1599997   latecoere profile groupe latelec patrice.prevost   36F\n",
       "1599998  bousser thil inbox etienne copains jeannot new...   47M\n",
       "1599999  fiscalite celebre 96a5 989e diesel des program...   38M\n",
       "\n",
       "[1424015 rows x 2 columns]"
      ]
     },
     "execution_count": 25,
     "metadata": {},
     "output_type": "execute_result"
    }
   ],
   "source": [
    "x_df.head(1600000)"
   ]
  },
  {
   "cell_type": "code",
   "execution_count": 26,
   "metadata": {},
   "outputs": [],
   "source": [
    "#x_df['keywords'][300]"
   ]
  },
  {
   "cell_type": "markdown",
   "metadata": {},
   "source": [
    "## 3.4 Bag of Words Scoring using TF-IDF"
   ]
  },
  {
   "cell_type": "code",
   "execution_count": 31,
   "metadata": {},
   "outputs": [],
   "source": [
    "vectorizer = TfidfVectorizer(sublinear_tf=True, max_df=0.1, min_df = 0.01)\n",
    "# vectorizer = DictVectorizer()"
   ]
  },
  {
   "cell_type": "markdown",
   "metadata": {},
   "source": [
    "###    "
   ]
  },
  {
   "cell_type": "markdown",
   "metadata": {},
   "source": [
    "# 4. Partitioning: Split dataset into Train and Test Sets"
   ]
  },
  {
   "cell_type": "code",
   "execution_count": 32,
   "metadata": {},
   "outputs": [],
   "source": [
    "X = x_df[\"keywords\"]\n",
    "y = x_df[\"class\"]"
   ]
  },
  {
   "cell_type": "code",
   "execution_count": 33,
   "metadata": {},
   "outputs": [],
   "source": [
    "X_train_df, X_test_df, y_train, y_test = train_test_split(X, y, test_size=0.2, random_state=42)"
   ]
  },
  {
   "cell_type": "code",
   "execution_count": 34,
   "metadata": {},
   "outputs": [],
   "source": [
    "X_train = vectorizer.fit_transform(X_train_df)"
   ]
  },
  {
   "cell_type": "code",
   "execution_count": 35,
   "metadata": {},
   "outputs": [],
   "source": [
    "X_test = vectorizer.transform(X_test_df)"
   ]
  },
  {
   "cell_type": "code",
   "execution_count": 36,
   "metadata": {},
   "outputs": [],
   "source": [
    "# mapping from integer feature name to original token string\n",
    "feature_names = vectorizer.get_feature_names()"
   ]
  },
  {
   "cell_type": "code",
   "execution_count": 37,
   "metadata": {},
   "outputs": [
    {
     "data": {
      "text/plain": [
       "276"
      ]
     },
     "execution_count": 37,
     "metadata": {},
     "output_type": "execute_result"
    }
   ],
   "source": [
    "len(vectorizer.vocabulary_)"
   ]
  },
  {
   "cell_type": "markdown",
   "metadata": {},
   "source": [
    "###    "
   ]
  },
  {
   "cell_type": "markdown",
   "metadata": {},
   "source": [
    "# 5. Classification: Fitting Multinomial Naive Bayes to the Training Set"
   ]
  },
  {
   "cell_type": "code",
   "execution_count": 38,
   "metadata": {
    "scrolled": true
   },
   "outputs": [
    {
     "name": "stdout",
     "output_type": "stream",
     "text": [
      "accuracy:   0.024\n"
     ]
    }
   ],
   "source": [
    "#Creating a Bag of Words Model\n",
    "clf = MultinomialNB(alpha=.01)\n",
    "clf.fit(X_train, y_train)\n",
    "\n",
    "#predicting test set results\n",
    "pred = clf.predict(X_test)\n",
    "\n",
    "#scoring the model using the accuracy metric (Classification Accuracy)\n",
    "score = metrics.accuracy_score(y_test, pred)\n",
    "\n",
    "print(\"accuracy:   %0.3f\" % score)"
   ]
  },
  {
   "cell_type": "markdown",
   "metadata": {},
   "source": [
    "###    "
   ]
  },
  {
   "cell_type": "markdown",
   "metadata": {},
   "source": [
    "# 6. NB Model Evaluation: Cross Validation using k-fold"
   ]
  },
  {
   "cell_type": "code",
   "execution_count": 39,
   "metadata": {},
   "outputs": [
    {
     "name": "stderr",
     "output_type": "stream",
     "text": [
      "[Parallel(n_jobs=-1)]: Using backend LokyBackend with 8 concurrent workers.\n",
      "C:\\Users\\Michel El Kik\\Anaconda3\\lib\\site-packages\\sklearn\\model_selection\\_split.py:667: UserWarning: The least populated class in y has only 2 members, which is less than n_splits=10.\n",
      "  % (min_groups, self.n_splits)), UserWarning)\n",
      "[Parallel(n_jobs=-1)]: Done   1 tasks      | elapsed: 29.8min\n",
      "[Parallel(n_jobs=-1)]: Done   2 out of  10 | elapsed: 29.8min remaining: 119.3min\n",
      "[Parallel(n_jobs=-1)]: Done   3 out of  10 | elapsed: 29.8min remaining: 69.6min\n",
      "[Parallel(n_jobs=-1)]: Done   4 out of  10 | elapsed: 29.8min remaining: 44.7min\n",
      "[Parallel(n_jobs=-1)]: Done   5 out of  10 | elapsed: 29.8min remaining: 29.8min\n",
      "[Parallel(n_jobs=-1)]: Done   6 out of  10 | elapsed: 29.8min remaining: 19.9min\n",
      "[Parallel(n_jobs=-1)]: Done   7 out of  10 | elapsed: 29.8min remaining: 12.8min\n",
      "[Parallel(n_jobs=-1)]: Done   8 out of  10 | elapsed: 29.8min remaining:  7.5min\n",
      "[Parallel(n_jobs=-1)]: Done  10 out of  10 | elapsed: 31.0min remaining:    0.0s\n",
      "[Parallel(n_jobs=-1)]: Done  10 out of  10 | elapsed: 31.0min finished\n"
     ]
    }
   ],
   "source": [
    "# A 10-fold cross-validation test harness is used to demonstrate each metric\n",
    "clf = MultinomialNB(alpha=.01)\n",
    "clf.fit(X_train, y_train)\n",
    "y_pred = cross_val_predict(clf, X_train, y_train, cv=10, n_jobs=-1, verbose=20)"
   ]
  },
  {
   "cell_type": "markdown",
   "metadata": {},
   "source": [
    "## 6.1 Cross Validation Accuracy"
   ]
  },
  {
   "cell_type": "code",
   "execution_count": 40,
   "metadata": {},
   "outputs": [
    {
     "data": {
      "text/plain": [
       "0.02401660094872596"
      ]
     },
     "execution_count": 40,
     "metadata": {},
     "output_type": "execute_result"
    }
   ],
   "source": [
    "metrics.accuracy_score(y_test, pred)"
   ]
  },
  {
   "cell_type": "markdown",
   "metadata": {},
   "source": [
    "###    "
   ]
  },
  {
   "cell_type": "markdown",
   "metadata": {},
   "source": [
    "# 7. Test Set Prediction"
   ]
  },
  {
   "cell_type": "markdown",
   "metadata": {},
   "source": [
    "## 7.1 Feature Extraction: BoW Approach for Test Set "
   ]
  },
  {
   "cell_type": "code",
   "execution_count": 41,
   "metadata": {},
   "outputs": [],
   "source": [
    "test_df2 = test_df.copy()"
   ]
  },
  {
   "cell_type": "code",
   "execution_count": 42,
   "metadata": {},
   "outputs": [],
   "source": [
    "test_df2['keywords'] = test_df2['keywords'].apply(lambda row: row.split(\";\"))"
   ]
  },
  {
   "cell_type": "code",
   "execution_count": 43,
   "metadata": {},
   "outputs": [
    {
     "data": {
      "text/html": [
       "<div>\n",
       "<style scoped>\n",
       "    .dataframe tbody tr th:only-of-type {\n",
       "        vertical-align: middle;\n",
       "    }\n",
       "\n",
       "    .dataframe tbody tr th {\n",
       "        vertical-align: top;\n",
       "    }\n",
       "\n",
       "    .dataframe thead th {\n",
       "        text-align: right;\n",
       "    }\n",
       "</style>\n",
       "<table border=\"1\" class=\"dataframe\">\n",
       "  <thead>\n",
       "    <tr style=\"text-align: right;\">\n",
       "      <th></th>\n",
       "      <th>ID</th>\n",
       "      <th>keywords</th>\n",
       "      <th>age</th>\n",
       "      <th>sex</th>\n",
       "    </tr>\n",
       "  </thead>\n",
       "  <tbody>\n",
       "    <tr>\n",
       "      <td>1</td>\n",
       "      <td>2</td>\n",
       "      <td>[cecilia.gosselin:1, flash:1, ville:1, obseque...</td>\n",
       "      <td>NaN</td>\n",
       "      <td>NaN</td>\n",
       "    </tr>\n",
       "    <tr>\n",
       "      <td>2</td>\n",
       "      <td>3</td>\n",
       "      <td>[p1_1697235:1, peut:1, jcms:1, les:1, acceptee...</td>\n",
       "      <td>NaN</td>\n",
       "      <td>NaN</td>\n",
       "    </tr>\n",
       "    <tr>\n",
       "      <td>3</td>\n",
       "      <td>4</td>\n",
       "      <td>[002lundu83vnndv:1]</td>\n",
       "      <td>NaN</td>\n",
       "      <td>NaN</td>\n",
       "    </tr>\n",
       "    <tr>\n",
       "      <td>4</td>\n",
       "      <td>5</td>\n",
       "      <td>[high:3, patisserie:1, apple:3, tech:3, obsequ...</td>\n",
       "      <td>NaN</td>\n",
       "      <td>NaN</td>\n",
       "    </tr>\n",
       "    <tr>\n",
       "      <td>5</td>\n",
       "      <td>6</td>\n",
       "      <td>[disparition:1, vue:1, maelys:1, deuxieme:1, p...</td>\n",
       "      <td>NaN</td>\n",
       "      <td>NaN</td>\n",
       "    </tr>\n",
       "    <tr>\n",
       "      <td>...</td>\n",
       "      <td>...</td>\n",
       "      <td>...</td>\n",
       "      <td>...</td>\n",
       "      <td>...</td>\n",
       "    </tr>\n",
       "    <tr>\n",
       "      <td>1599995</td>\n",
       "      <td>1599996</td>\n",
       "      <td>[quatre:1, quart:1, recette:1]</td>\n",
       "      <td>NaN</td>\n",
       "      <td>NaN</td>\n",
       "    </tr>\n",
       "    <tr>\n",
       "      <td>1599996</td>\n",
       "      <td>1599997</td>\n",
       "      <td>[jcms:1, seuils:1, dexoneration:1, futurs:1, p...</td>\n",
       "      <td>NaN</td>\n",
       "      <td>NaN</td>\n",
       "    </tr>\n",
       "    <tr>\n",
       "      <td>1599997</td>\n",
       "      <td>1599998</td>\n",
       "      <td>[france:6, meteo:6, previsions:6, seillans:6, ...</td>\n",
       "      <td>NaN</td>\n",
       "      <td>NaN</td>\n",
       "    </tr>\n",
       "    <tr>\n",
       "      <td>1599998</td>\n",
       "      <td>1599999</td>\n",
       "      <td>[jhabite:1, emplacement:1, beneficient:1, p1_1...</td>\n",
       "      <td>NaN</td>\n",
       "      <td>NaN</td>\n",
       "    </tr>\n",
       "    <tr>\n",
       "      <td>1599999</td>\n",
       "      <td>1600000</td>\n",
       "      <td>[essentiel:1, testez:1, plans:1, beaute:1, bon...</td>\n",
       "      <td>NaN</td>\n",
       "      <td>NaN</td>\n",
       "    </tr>\n",
       "  </tbody>\n",
       "</table>\n",
       "<p>1419642 rows × 4 columns</p>\n",
       "</div>"
      ],
      "text/plain": [
       "              ID                                           keywords  age  sex\n",
       "1              2  [cecilia.gosselin:1, flash:1, ville:1, obseque...  NaN  NaN\n",
       "2              3  [p1_1697235:1, peut:1, jcms:1, les:1, acceptee...  NaN  NaN\n",
       "3              4                                [002lundu83vnndv:1]  NaN  NaN\n",
       "4              5  [high:3, patisserie:1, apple:3, tech:3, obsequ...  NaN  NaN\n",
       "5              6  [disparition:1, vue:1, maelys:1, deuxieme:1, p...  NaN  NaN\n",
       "...          ...                                                ...  ...  ...\n",
       "1599995  1599996                     [quatre:1, quart:1, recette:1]  NaN  NaN\n",
       "1599996  1599997  [jcms:1, seuils:1, dexoneration:1, futurs:1, p...  NaN  NaN\n",
       "1599997  1599998  [france:6, meteo:6, previsions:6, seillans:6, ...  NaN  NaN\n",
       "1599998  1599999  [jhabite:1, emplacement:1, beneficient:1, p1_1...  NaN  NaN\n",
       "1599999  1600000  [essentiel:1, testez:1, plans:1, beaute:1, bon...  NaN  NaN\n",
       "\n",
       "[1419642 rows x 4 columns]"
      ]
     },
     "execution_count": 43,
     "metadata": {},
     "output_type": "execute_result"
    }
   ],
   "source": [
    "test_df2.head(1600000)"
   ]
  },
  {
   "cell_type": "code",
   "execution_count": 44,
   "metadata": {},
   "outputs": [],
   "source": [
    "test_df2['keywords'] = test_df2['keywords'].apply(lambda row: convert_to_words(row))"
   ]
  },
  {
   "cell_type": "code",
   "execution_count": 45,
   "metadata": {},
   "outputs": [],
   "source": [
    "#test_df2.head(1600000)"
   ]
  },
  {
   "cell_type": "code",
   "execution_count": 46,
   "metadata": {},
   "outputs": [],
   "source": [
    "test_df2['keywords'] = test_df2['keywords'].apply(lambda row: ' '.join(row))"
   ]
  },
  {
   "cell_type": "code",
   "execution_count": 47,
   "metadata": {},
   "outputs": [],
   "source": [
    "#test_df2.head(1600000)"
   ]
  },
  {
   "cell_type": "code",
   "execution_count": 48,
   "metadata": {},
   "outputs": [
    {
     "data": {
      "text/plain": [
       "'p1_1697235 peut jcms les acceptees pas beneficiaire par assurances saisir vie fisc'"
      ]
     },
     "execution_count": 48,
     "metadata": {},
     "output_type": "execute_result"
    }
   ],
   "source": [
    "test_df2['keywords'][2]"
   ]
  },
  {
   "cell_type": "markdown",
   "metadata": {},
   "source": [
    "## 7.2 Attribute Prediction: 'prediction' = P('class')"
   ]
  },
  {
   "cell_type": "code",
   "execution_count": 49,
   "metadata": {},
   "outputs": [],
   "source": [
    "test = vectorizer.transform(test_df2['keywords'])"
   ]
  },
  {
   "cell_type": "code",
   "execution_count": 50,
   "metadata": {},
   "outputs": [],
   "source": [
    "pred2 = clf.predict(test)"
   ]
  },
  {
   "cell_type": "code",
   "execution_count": 51,
   "metadata": {},
   "outputs": [
    {
     "data": {
      "text/plain": [
       "'66M'"
      ]
     },
     "execution_count": 51,
     "metadata": {},
     "output_type": "execute_result"
    }
   ],
   "source": [
    "pred2[1]"
   ]
  },
  {
   "cell_type": "code",
   "execution_count": 52,
   "metadata": {},
   "outputs": [],
   "source": [
    "test_df[\"prediction\"] = pred2"
   ]
  },
  {
   "cell_type": "code",
   "execution_count": 53,
   "metadata": {},
   "outputs": [
    {
     "data": {
      "text/html": [
       "<div>\n",
       "<style scoped>\n",
       "    .dataframe tbody tr th:only-of-type {\n",
       "        vertical-align: middle;\n",
       "    }\n",
       "\n",
       "    .dataframe tbody tr th {\n",
       "        vertical-align: top;\n",
       "    }\n",
       "\n",
       "    .dataframe thead th {\n",
       "        text-align: right;\n",
       "    }\n",
       "</style>\n",
       "<table border=\"1\" class=\"dataframe\">\n",
       "  <thead>\n",
       "    <tr style=\"text-align: right;\">\n",
       "      <th></th>\n",
       "      <th>ID</th>\n",
       "      <th>keywords</th>\n",
       "      <th>age</th>\n",
       "      <th>sex</th>\n",
       "      <th>prediction</th>\n",
       "    </tr>\n",
       "  </thead>\n",
       "  <tbody>\n",
       "    <tr>\n",
       "      <td>1</td>\n",
       "      <td>2</td>\n",
       "      <td>cecilia.gosselin:1;flash:1;ville:1;obseques:1;...</td>\n",
       "      <td>NaN</td>\n",
       "      <td>NaN</td>\n",
       "      <td>48F</td>\n",
       "    </tr>\n",
       "    <tr>\n",
       "      <td>2</td>\n",
       "      <td>3</td>\n",
       "      <td>p1_1697235:1;peut:1;jcms:1;les:1;acceptees:1;p...</td>\n",
       "      <td>NaN</td>\n",
       "      <td>NaN</td>\n",
       "      <td>66M</td>\n",
       "    </tr>\n",
       "    <tr>\n",
       "      <td>3</td>\n",
       "      <td>4</td>\n",
       "      <td>002lundu83vnndv:1</td>\n",
       "      <td>NaN</td>\n",
       "      <td>NaN</td>\n",
       "      <td>42M</td>\n",
       "    </tr>\n",
       "    <tr>\n",
       "      <td>4</td>\n",
       "      <td>5</td>\n",
       "      <td>high:3;patisserie:1;apple:3;tech:3;obseques:1;...</td>\n",
       "      <td>NaN</td>\n",
       "      <td>NaN</td>\n",
       "      <td>48F</td>\n",
       "    </tr>\n",
       "    <tr>\n",
       "      <td>5</td>\n",
       "      <td>6</td>\n",
       "      <td>disparition:1;vue:1;maelys:1;deuxieme:1;place:...</td>\n",
       "      <td>NaN</td>\n",
       "      <td>NaN</td>\n",
       "      <td>36F</td>\n",
       "    </tr>\n",
       "    <tr>\n",
       "      <td>...</td>\n",
       "      <td>...</td>\n",
       "      <td>...</td>\n",
       "      <td>...</td>\n",
       "      <td>...</td>\n",
       "      <td>...</td>\n",
       "    </tr>\n",
       "    <tr>\n",
       "      <td>1599995</td>\n",
       "      <td>1599996</td>\n",
       "      <td>quatre:1;quart:1;recette:1</td>\n",
       "      <td>NaN</td>\n",
       "      <td>NaN</td>\n",
       "      <td>40F</td>\n",
       "    </tr>\n",
       "    <tr>\n",
       "      <td>1599996</td>\n",
       "      <td>1599997</td>\n",
       "      <td>jcms:1;seuils:1;dexoneration:1;futurs:1;p1_169...</td>\n",
       "      <td>NaN</td>\n",
       "      <td>NaN</td>\n",
       "      <td>63M</td>\n",
       "    </tr>\n",
       "    <tr>\n",
       "      <td>1599997</td>\n",
       "      <td>1599998</td>\n",
       "      <td>france:6;meteo:6;previsions:6;seillans:6;ville:6</td>\n",
       "      <td>NaN</td>\n",
       "      <td>NaN</td>\n",
       "      <td>59M</td>\n",
       "    </tr>\n",
       "    <tr>\n",
       "      <td>1599998</td>\n",
       "      <td>1599999</td>\n",
       "      <td>jhabite:1;emplacement:1;beneficient:1;p1_13227...</td>\n",
       "      <td>NaN</td>\n",
       "      <td>NaN</td>\n",
       "      <td>52M</td>\n",
       "    </tr>\n",
       "    <tr>\n",
       "      <td>1599999</td>\n",
       "      <td>1600000</td>\n",
       "      <td>essentiel:1;testez:1;plans:1;beaute:1;bons:1;p...</td>\n",
       "      <td>NaN</td>\n",
       "      <td>NaN</td>\n",
       "      <td>48F</td>\n",
       "    </tr>\n",
       "  </tbody>\n",
       "</table>\n",
       "<p>1419642 rows × 5 columns</p>\n",
       "</div>"
      ],
      "text/plain": [
       "              ID                                           keywords  age  sex  \\\n",
       "1              2  cecilia.gosselin:1;flash:1;ville:1;obseques:1;...  NaN  NaN   \n",
       "2              3  p1_1697235:1;peut:1;jcms:1;les:1;acceptees:1;p...  NaN  NaN   \n",
       "3              4                                  002lundu83vnndv:1  NaN  NaN   \n",
       "4              5  high:3;patisserie:1;apple:3;tech:3;obseques:1;...  NaN  NaN   \n",
       "5              6  disparition:1;vue:1;maelys:1;deuxieme:1;place:...  NaN  NaN   \n",
       "...          ...                                                ...  ...  ...   \n",
       "1599995  1599996                         quatre:1;quart:1;recette:1  NaN  NaN   \n",
       "1599996  1599997  jcms:1;seuils:1;dexoneration:1;futurs:1;p1_169...  NaN  NaN   \n",
       "1599997  1599998   france:6;meteo:6;previsions:6;seillans:6;ville:6  NaN  NaN   \n",
       "1599998  1599999  jhabite:1;emplacement:1;beneficient:1;p1_13227...  NaN  NaN   \n",
       "1599999  1600000  essentiel:1;testez:1;plans:1;beaute:1;bons:1;p...  NaN  NaN   \n",
       "\n",
       "        prediction  \n",
       "1              48F  \n",
       "2              66M  \n",
       "3              42M  \n",
       "4              48F  \n",
       "5              36F  \n",
       "...            ...  \n",
       "1599995        40F  \n",
       "1599996        63M  \n",
       "1599997        59M  \n",
       "1599998        52M  \n",
       "1599999        48F  \n",
       "\n",
       "[1419642 rows x 5 columns]"
      ]
     },
     "execution_count": 53,
     "metadata": {},
     "output_type": "execute_result"
    }
   ],
   "source": [
    "test_df.head(1600000)"
   ]
  },
  {
   "cell_type": "markdown",
   "metadata": {},
   "source": [
    "## 7.3 Equating \"sex\" to \"prediction\" "
   ]
  },
  {
   "cell_type": "code",
   "execution_count": 54,
   "metadata": {},
   "outputs": [],
   "source": [
    "test_df[\"sex\"] = test_df[\"prediction\"]"
   ]
  },
  {
   "cell_type": "code",
   "execution_count": 55,
   "metadata": {},
   "outputs": [
    {
     "data": {
      "text/html": [
       "<div>\n",
       "<style scoped>\n",
       "    .dataframe tbody tr th:only-of-type {\n",
       "        vertical-align: middle;\n",
       "    }\n",
       "\n",
       "    .dataframe tbody tr th {\n",
       "        vertical-align: top;\n",
       "    }\n",
       "\n",
       "    .dataframe thead th {\n",
       "        text-align: right;\n",
       "    }\n",
       "</style>\n",
       "<table border=\"1\" class=\"dataframe\">\n",
       "  <thead>\n",
       "    <tr style=\"text-align: right;\">\n",
       "      <th></th>\n",
       "      <th>ID</th>\n",
       "      <th>keywords</th>\n",
       "      <th>age</th>\n",
       "      <th>sex</th>\n",
       "      <th>prediction</th>\n",
       "    </tr>\n",
       "  </thead>\n",
       "  <tbody>\n",
       "    <tr>\n",
       "      <td>1</td>\n",
       "      <td>2</td>\n",
       "      <td>cecilia.gosselin:1;flash:1;ville:1;obseques:1;...</td>\n",
       "      <td>NaN</td>\n",
       "      <td>48F</td>\n",
       "      <td>48F</td>\n",
       "    </tr>\n",
       "    <tr>\n",
       "      <td>2</td>\n",
       "      <td>3</td>\n",
       "      <td>p1_1697235:1;peut:1;jcms:1;les:1;acceptees:1;p...</td>\n",
       "      <td>NaN</td>\n",
       "      <td>66M</td>\n",
       "      <td>66M</td>\n",
       "    </tr>\n",
       "    <tr>\n",
       "      <td>3</td>\n",
       "      <td>4</td>\n",
       "      <td>002lundu83vnndv:1</td>\n",
       "      <td>NaN</td>\n",
       "      <td>42M</td>\n",
       "      <td>42M</td>\n",
       "    </tr>\n",
       "    <tr>\n",
       "      <td>4</td>\n",
       "      <td>5</td>\n",
       "      <td>high:3;patisserie:1;apple:3;tech:3;obseques:1;...</td>\n",
       "      <td>NaN</td>\n",
       "      <td>48F</td>\n",
       "      <td>48F</td>\n",
       "    </tr>\n",
       "    <tr>\n",
       "      <td>5</td>\n",
       "      <td>6</td>\n",
       "      <td>disparition:1;vue:1;maelys:1;deuxieme:1;place:...</td>\n",
       "      <td>NaN</td>\n",
       "      <td>36F</td>\n",
       "      <td>36F</td>\n",
       "    </tr>\n",
       "    <tr>\n",
       "      <td>...</td>\n",
       "      <td>...</td>\n",
       "      <td>...</td>\n",
       "      <td>...</td>\n",
       "      <td>...</td>\n",
       "      <td>...</td>\n",
       "    </tr>\n",
       "    <tr>\n",
       "      <td>1599995</td>\n",
       "      <td>1599996</td>\n",
       "      <td>quatre:1;quart:1;recette:1</td>\n",
       "      <td>NaN</td>\n",
       "      <td>40F</td>\n",
       "      <td>40F</td>\n",
       "    </tr>\n",
       "    <tr>\n",
       "      <td>1599996</td>\n",
       "      <td>1599997</td>\n",
       "      <td>jcms:1;seuils:1;dexoneration:1;futurs:1;p1_169...</td>\n",
       "      <td>NaN</td>\n",
       "      <td>63M</td>\n",
       "      <td>63M</td>\n",
       "    </tr>\n",
       "    <tr>\n",
       "      <td>1599997</td>\n",
       "      <td>1599998</td>\n",
       "      <td>france:6;meteo:6;previsions:6;seillans:6;ville:6</td>\n",
       "      <td>NaN</td>\n",
       "      <td>59M</td>\n",
       "      <td>59M</td>\n",
       "    </tr>\n",
       "    <tr>\n",
       "      <td>1599998</td>\n",
       "      <td>1599999</td>\n",
       "      <td>jhabite:1;emplacement:1;beneficient:1;p1_13227...</td>\n",
       "      <td>NaN</td>\n",
       "      <td>52M</td>\n",
       "      <td>52M</td>\n",
       "    </tr>\n",
       "    <tr>\n",
       "      <td>1599999</td>\n",
       "      <td>1600000</td>\n",
       "      <td>essentiel:1;testez:1;plans:1;beaute:1;bons:1;p...</td>\n",
       "      <td>NaN</td>\n",
       "      <td>48F</td>\n",
       "      <td>48F</td>\n",
       "    </tr>\n",
       "  </tbody>\n",
       "</table>\n",
       "<p>1419642 rows × 5 columns</p>\n",
       "</div>"
      ],
      "text/plain": [
       "              ID                                           keywords  age  sex  \\\n",
       "1              2  cecilia.gosselin:1;flash:1;ville:1;obseques:1;...  NaN  48F   \n",
       "2              3  p1_1697235:1;peut:1;jcms:1;les:1;acceptees:1;p...  NaN  66M   \n",
       "3              4                                  002lundu83vnndv:1  NaN  42M   \n",
       "4              5  high:3;patisserie:1;apple:3;tech:3;obseques:1;...  NaN  48F   \n",
       "5              6  disparition:1;vue:1;maelys:1;deuxieme:1;place:...  NaN  36F   \n",
       "...          ...                                                ...  ...  ...   \n",
       "1599995  1599996                         quatre:1;quart:1;recette:1  NaN  40F   \n",
       "1599996  1599997  jcms:1;seuils:1;dexoneration:1;futurs:1;p1_169...  NaN  63M   \n",
       "1599997  1599998   france:6;meteo:6;previsions:6;seillans:6;ville:6  NaN  59M   \n",
       "1599998  1599999  jhabite:1;emplacement:1;beneficient:1;p1_13227...  NaN  52M   \n",
       "1599999  1600000  essentiel:1;testez:1;plans:1;beaute:1;bons:1;p...  NaN  48F   \n",
       "\n",
       "        prediction  \n",
       "1              48F  \n",
       "2              66M  \n",
       "3              42M  \n",
       "4              48F  \n",
       "5              36F  \n",
       "...            ...  \n",
       "1599995        40F  \n",
       "1599996        63M  \n",
       "1599997        59M  \n",
       "1599998        52M  \n",
       "1599999        48F  \n",
       "\n",
       "[1419642 rows x 5 columns]"
      ]
     },
     "execution_count": 55,
     "metadata": {},
     "output_type": "execute_result"
    }
   ],
   "source": [
    "test_df.head(1600000)"
   ]
  },
  {
   "cell_type": "code",
   "execution_count": 57,
   "metadata": {},
   "outputs": [],
   "source": [
    "test_df['sex'] = test_df['sex'].apply(lambda row: re.sub(\"\\d+\", \"\", row))"
   ]
  },
  {
   "cell_type": "code",
   "execution_count": 58,
   "metadata": {},
   "outputs": [],
   "source": [
    "#test_df.head(1600000)"
   ]
  },
  {
   "cell_type": "code",
   "execution_count": 60,
   "metadata": {},
   "outputs": [],
   "source": [
    "test_df[\"age\"] = test_df[\"prediction\"]"
   ]
  },
  {
   "cell_type": "code",
   "execution_count": 61,
   "metadata": {},
   "outputs": [],
   "source": [
    "# re.sub(chars_to_replace, string_to_replace_with, str)\n",
    "\n",
    "test_df['age'] = test_df['age'].apply(lambda row: re.sub(\"\\D+\", \"\", row))"
   ]
  },
  {
   "cell_type": "code",
   "execution_count": 62,
   "metadata": {},
   "outputs": [],
   "source": [
    "#test_df.head(1600000)"
   ]
  },
  {
   "cell_type": "code",
   "execution_count": 63,
   "metadata": {},
   "outputs": [],
   "source": [
    "test_df = test_df.drop(['prediction'] , axis=1)"
   ]
  },
  {
   "cell_type": "code",
   "execution_count": 64,
   "metadata": {},
   "outputs": [],
   "source": [
    "test_df = test_df.drop(['keywords'] , axis=1)"
   ]
  },
  {
   "cell_type": "code",
   "execution_count": 65,
   "metadata": {},
   "outputs": [
    {
     "data": {
      "text/html": [
       "<div>\n",
       "<style scoped>\n",
       "    .dataframe tbody tr th:only-of-type {\n",
       "        vertical-align: middle;\n",
       "    }\n",
       "\n",
       "    .dataframe tbody tr th {\n",
       "        vertical-align: top;\n",
       "    }\n",
       "\n",
       "    .dataframe thead th {\n",
       "        text-align: right;\n",
       "    }\n",
       "</style>\n",
       "<table border=\"1\" class=\"dataframe\">\n",
       "  <thead>\n",
       "    <tr style=\"text-align: right;\">\n",
       "      <th></th>\n",
       "      <th>ID</th>\n",
       "      <th>age</th>\n",
       "      <th>sex</th>\n",
       "    </tr>\n",
       "  </thead>\n",
       "  <tbody>\n",
       "    <tr>\n",
       "      <td>1</td>\n",
       "      <td>2</td>\n",
       "      <td>48</td>\n",
       "      <td>F</td>\n",
       "    </tr>\n",
       "    <tr>\n",
       "      <td>2</td>\n",
       "      <td>3</td>\n",
       "      <td>66</td>\n",
       "      <td>M</td>\n",
       "    </tr>\n",
       "    <tr>\n",
       "      <td>3</td>\n",
       "      <td>4</td>\n",
       "      <td>42</td>\n",
       "      <td>M</td>\n",
       "    </tr>\n",
       "    <tr>\n",
       "      <td>4</td>\n",
       "      <td>5</td>\n",
       "      <td>48</td>\n",
       "      <td>F</td>\n",
       "    </tr>\n",
       "    <tr>\n",
       "      <td>5</td>\n",
       "      <td>6</td>\n",
       "      <td>36</td>\n",
       "      <td>F</td>\n",
       "    </tr>\n",
       "    <tr>\n",
       "      <td>...</td>\n",
       "      <td>...</td>\n",
       "      <td>...</td>\n",
       "      <td>...</td>\n",
       "    </tr>\n",
       "    <tr>\n",
       "      <td>1599995</td>\n",
       "      <td>1599996</td>\n",
       "      <td>40</td>\n",
       "      <td>F</td>\n",
       "    </tr>\n",
       "    <tr>\n",
       "      <td>1599996</td>\n",
       "      <td>1599997</td>\n",
       "      <td>63</td>\n",
       "      <td>M</td>\n",
       "    </tr>\n",
       "    <tr>\n",
       "      <td>1599997</td>\n",
       "      <td>1599998</td>\n",
       "      <td>59</td>\n",
       "      <td>M</td>\n",
       "    </tr>\n",
       "    <tr>\n",
       "      <td>1599998</td>\n",
       "      <td>1599999</td>\n",
       "      <td>52</td>\n",
       "      <td>M</td>\n",
       "    </tr>\n",
       "    <tr>\n",
       "      <td>1599999</td>\n",
       "      <td>1600000</td>\n",
       "      <td>48</td>\n",
       "      <td>F</td>\n",
       "    </tr>\n",
       "  </tbody>\n",
       "</table>\n",
       "<p>1419642 rows × 3 columns</p>\n",
       "</div>"
      ],
      "text/plain": [
       "              ID age sex\n",
       "1              2  48   F\n",
       "2              3  66   M\n",
       "3              4  42   M\n",
       "4              5  48   F\n",
       "5              6  36   F\n",
       "...          ...  ..  ..\n",
       "1599995  1599996  40   F\n",
       "1599996  1599997  63   M\n",
       "1599997  1599998  59   M\n",
       "1599998  1599999  52   M\n",
       "1599999  1600000  48   F\n",
       "\n",
       "[1419642 rows x 3 columns]"
      ]
     },
     "execution_count": 65,
     "metadata": {},
     "output_type": "execute_result"
    }
   ],
   "source": [
    "test_df.head(1600000)"
   ]
  },
  {
   "cell_type": "markdown",
   "metadata": {},
   "source": [
    "## 7.4 Predicted Dataset: Final Format"
   ]
  },
  {
   "cell_type": "code",
   "execution_count": 67,
   "metadata": {},
   "outputs": [],
   "source": [
    "new_test_df = test_df.rename(columns={'age': 'age_pred' , 'sex': 'sex_pred'})"
   ]
  },
  {
   "cell_type": "code",
   "execution_count": 68,
   "metadata": {
    "scrolled": false
   },
   "outputs": [
    {
     "data": {
      "text/html": [
       "<div>\n",
       "<style scoped>\n",
       "    .dataframe tbody tr th:only-of-type {\n",
       "        vertical-align: middle;\n",
       "    }\n",
       "\n",
       "    .dataframe tbody tr th {\n",
       "        vertical-align: top;\n",
       "    }\n",
       "\n",
       "    .dataframe thead th {\n",
       "        text-align: right;\n",
       "    }\n",
       "</style>\n",
       "<table border=\"1\" class=\"dataframe\">\n",
       "  <thead>\n",
       "    <tr style=\"text-align: right;\">\n",
       "      <th></th>\n",
       "      <th>ID</th>\n",
       "      <th>age_pred</th>\n",
       "      <th>sex_pred</th>\n",
       "    </tr>\n",
       "  </thead>\n",
       "  <tbody>\n",
       "    <tr>\n",
       "      <td>1</td>\n",
       "      <td>2</td>\n",
       "      <td>48</td>\n",
       "      <td>F</td>\n",
       "    </tr>\n",
       "    <tr>\n",
       "      <td>2</td>\n",
       "      <td>3</td>\n",
       "      <td>66</td>\n",
       "      <td>M</td>\n",
       "    </tr>\n",
       "    <tr>\n",
       "      <td>3</td>\n",
       "      <td>4</td>\n",
       "      <td>42</td>\n",
       "      <td>M</td>\n",
       "    </tr>\n",
       "    <tr>\n",
       "      <td>4</td>\n",
       "      <td>5</td>\n",
       "      <td>48</td>\n",
       "      <td>F</td>\n",
       "    </tr>\n",
       "    <tr>\n",
       "      <td>5</td>\n",
       "      <td>6</td>\n",
       "      <td>36</td>\n",
       "      <td>F</td>\n",
       "    </tr>\n",
       "    <tr>\n",
       "      <td>...</td>\n",
       "      <td>...</td>\n",
       "      <td>...</td>\n",
       "      <td>...</td>\n",
       "    </tr>\n",
       "    <tr>\n",
       "      <td>1599995</td>\n",
       "      <td>1599996</td>\n",
       "      <td>40</td>\n",
       "      <td>F</td>\n",
       "    </tr>\n",
       "    <tr>\n",
       "      <td>1599996</td>\n",
       "      <td>1599997</td>\n",
       "      <td>63</td>\n",
       "      <td>M</td>\n",
       "    </tr>\n",
       "    <tr>\n",
       "      <td>1599997</td>\n",
       "      <td>1599998</td>\n",
       "      <td>59</td>\n",
       "      <td>M</td>\n",
       "    </tr>\n",
       "    <tr>\n",
       "      <td>1599998</td>\n",
       "      <td>1599999</td>\n",
       "      <td>52</td>\n",
       "      <td>M</td>\n",
       "    </tr>\n",
       "    <tr>\n",
       "      <td>1599999</td>\n",
       "      <td>1600000</td>\n",
       "      <td>48</td>\n",
       "      <td>F</td>\n",
       "    </tr>\n",
       "  </tbody>\n",
       "</table>\n",
       "<p>1419642 rows × 3 columns</p>\n",
       "</div>"
      ],
      "text/plain": [
       "              ID age_pred sex_pred\n",
       "1              2       48        F\n",
       "2              3       66        M\n",
       "3              4       42        M\n",
       "4              5       48        F\n",
       "5              6       36        F\n",
       "...          ...      ...      ...\n",
       "1599995  1599996       40        F\n",
       "1599996  1599997       63        M\n",
       "1599997  1599998       59        M\n",
       "1599998  1599999       52        M\n",
       "1599999  1600000       48        F\n",
       "\n",
       "[1419642 rows x 3 columns]"
      ]
     },
     "execution_count": 68,
     "metadata": {},
     "output_type": "execute_result"
    }
   ],
   "source": [
    "new_test_df.head(1600000)"
   ]
  },
  {
   "cell_type": "markdown",
   "metadata": {},
   "source": [
    "###    "
   ]
  },
  {
   "cell_type": "markdown",
   "metadata": {},
   "source": [
    "# 8. Exporting Predicted Dataset as CSV"
   ]
  },
  {
   "cell_type": "code",
   "execution_count": 69,
   "metadata": {},
   "outputs": [],
   "source": [
    "new_test_df.to_csv(r'C:/Users/Michel El Kik/Documents/MICHEL EL KIK DOCS/ESCP DOCS/ESCP Semester 2/ML/Final Project ML/predicted_set.csv', index=False)"
   ]
  },
  {
   "cell_type": "markdown",
   "metadata": {},
   "source": [
    "###    "
   ]
  }
 ],
 "metadata": {
  "kernelspec": {
   "display_name": "Python 3",
   "language": "python",
   "name": "python3"
  },
  "language_info": {
   "codemirror_mode": {
    "name": "ipython",
    "version": 3
   },
   "file_extension": ".py",
   "mimetype": "text/x-python",
   "name": "python",
   "nbconvert_exporter": "python",
   "pygments_lexer": "ipython3",
   "version": "3.7.4"
  }
 },
 "nbformat": 4,
 "nbformat_minor": 2
}
